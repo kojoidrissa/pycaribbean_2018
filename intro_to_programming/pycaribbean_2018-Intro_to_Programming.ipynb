{
 "cells": [
  {
   "cell_type": "markdown",
   "metadata": {},
   "source": [
    "# Premise: 3 things to start learning to program\n",
    "\n",
    "1. A programming language\n",
    "    -  Python\n",
    "-  Tools to use that language\n",
    "    -  Jupyter Notebook (or a text editor)\n",
    "-  A project to work on\n",
    "    -  processing a spreadsheet"
   ]
  },
  {
   "cell_type": "markdown",
   "metadata": {},
   "source": [
    "## Look at our data and explain the problem\n",
    "## Look at each code file, explaining what's going on\n",
    "## Try some things in the notebook\n",
    "## Look at our results"
   ]
  },
  {
   "cell_type": "markdown",
   "metadata": {},
   "source": [
    "# Jupyter: JuPyter == JUlia, PYThon and R"
   ]
  },
  {
   "cell_type": "markdown",
   "metadata": {},
   "source": [
    "# Let's look at our data"
   ]
  },
  {
   "cell_type": "code",
   "execution_count": 32,
   "metadata": {
    "scrolled": true
   },
   "outputs": [
    {
     "name": "stdout",
     "output_type": "stream",
     "text": [
      "1_loading.py\r\n",
      "2_get_employee_list_for_loop.py\r\n",
      "3_get_employee_list_comprehension.py\r\n",
      "4_create_employee_dictionary.py\r\n",
      "5_create_output_spreadsheet.py\r\n",
      "6_write_data_to_workbook.py\r\n",
      "7_create_json_object.py\r\n",
      "aggregate_time.json\r\n",
      "done_pycaribbean.xlsx\r\n",
      "intro_to_programming.xlsx\r\n",
      "pycaribbean_2018-Intro_to_Programming.ipynb\r\n",
      "requirements.txt\r\n"
     ]
    }
   ],
   "source": [
    "ls"
   ]
  },
  {
   "cell_type": "code",
   "execution_count": 3,
   "metadata": {},
   "outputs": [],
   "source": [
    "# %load 1_loading.py\n",
    "import openpyxl\n",
    "from openpyxl import Workbook\n",
    "\n",
    "# get workbook object; the data_only option captures the current value of any formulae\n",
    "# Your file should be in the same directory as this code, OR you need to provide the FULL path to that file, not just it's name\n",
    "wb = openpyxl.load_workbook('intro_to_programming.xlsx', data_only= True)\n",
    "\n",
    "# WB -> WS -> Cell\n",
    "demo_worksheet = wb.get_sheet_by_name(\"clean_data\")"
   ]
  },
  {
   "cell_type": "code",
   "execution_count": 8,
   "metadata": {},
   "outputs": [
    {
     "data": {
      "text/plain": [
       "['BREAK_COLUMN',\n",
       " 'BREAK_NONE',\n",
       " 'BREAK_ROW',\n",
       " 'HeaderFooter',\n",
       " 'ORIENTATION_LANDSCAPE',\n",
       " 'ORIENTATION_PORTRAIT',\n",
       " 'PAPERSIZE_A3',\n",
       " 'PAPERSIZE_A4',\n",
       " 'PAPERSIZE_A4_SMALL',\n",
       " 'PAPERSIZE_A5',\n",
       " 'PAPERSIZE_EXECUTIVE',\n",
       " 'PAPERSIZE_LEDGER',\n",
       " 'PAPERSIZE_LEGAL',\n",
       " 'PAPERSIZE_LETTER',\n",
       " 'PAPERSIZE_LETTER_SMALL',\n",
       " 'PAPERSIZE_STATEMENT',\n",
       " 'PAPERSIZE_TABLOID',\n",
       " 'SHEETSTATE_HIDDEN',\n",
       " 'SHEETSTATE_VERYHIDDEN',\n",
       " 'SHEETSTATE_VISIBLE',\n",
       " '_WorkbookChild__parent',\n",
       " '_WorkbookChild__title',\n",
       " '__class__',\n",
       " '__delattr__',\n",
       " '__dict__',\n",
       " '__dir__',\n",
       " '__doc__',\n",
       " '__eq__',\n",
       " '__format__',\n",
       " '__ge__',\n",
       " '__getattribute__',\n",
       " '__getitem__',\n",
       " '__gt__',\n",
       " '__hash__',\n",
       " '__init__',\n",
       " '__init_subclass__',\n",
       " '__iter__',\n",
       " '__le__',\n",
       " '__lt__',\n",
       " '__module__',\n",
       " '__ne__',\n",
       " '__new__',\n",
       " '__reduce__',\n",
       " '__reduce_ex__',\n",
       " '__repr__',\n",
       " '__setattr__',\n",
       " '__setitem__',\n",
       " '__sizeof__',\n",
       " '__str__',\n",
       " '__subclasshook__',\n",
       " '__weakref__',\n",
       " '_add_cell',\n",
       " '_add_column',\n",
       " '_add_row',\n",
       " '_cells',\n",
       " '_cells_by_col',\n",
       " '_cells_by_row',\n",
       " '_charts',\n",
       " '_comments',\n",
       " '_current_row',\n",
       " '_default_title',\n",
       " '_drawing',\n",
       " '_get_cell',\n",
       " '_hyperlinks',\n",
       " '_id',\n",
       " '_images',\n",
       " '_invalid_row',\n",
       " '_merged_cells',\n",
       " '_path',\n",
       " '_print_area',\n",
       " '_print_cols',\n",
       " '_print_rows',\n",
       " '_rel_type',\n",
       " '_rels',\n",
       " '_setup',\n",
       " '_tables',\n",
       " '_write',\n",
       " 'active_cell',\n",
       " 'add_chart',\n",
       " 'add_data_validation',\n",
       " 'add_image',\n",
       " 'add_print_title',\n",
       " 'add_table',\n",
       " 'append',\n",
       " 'auto_filter',\n",
       " 'calculate_dimension',\n",
       " 'cell',\n",
       " 'column_dimensions',\n",
       " 'columns',\n",
       " 'conditional_formatting',\n",
       " 'data_validations',\n",
       " 'dimensions',\n",
       " 'encoding',\n",
       " 'evenFooter',\n",
       " 'evenHeader',\n",
       " 'firstFooter',\n",
       " 'firstHeader',\n",
       " 'formula_attributes',\n",
       " 'freeze_panes',\n",
       " 'get_cell_collection',\n",
       " 'get_named_range',\n",
       " 'get_squared_range',\n",
       " 'iter_cols',\n",
       " 'iter_rows',\n",
       " 'legacy_drawing',\n",
       " 'max_column',\n",
       " 'max_row',\n",
       " 'merge_cells',\n",
       " 'merged_cell_ranges',\n",
       " 'merged_cells',\n",
       " 'mime_type',\n",
       " 'min_column',\n",
       " 'min_row',\n",
       " 'oddFooter',\n",
       " 'oddHeader',\n",
       " 'orientation',\n",
       " 'page_breaks',\n",
       " 'page_margins',\n",
       " 'page_setup',\n",
       " 'paper_size',\n",
       " 'parent',\n",
       " 'path',\n",
       " 'point_pos',\n",
       " 'print_area',\n",
       " 'print_options',\n",
       " 'print_title_cols',\n",
       " 'print_title_rows',\n",
       " 'print_titles',\n",
       " 'protection',\n",
       " 'row_dimensions',\n",
       " 'rows',\n",
       " 'selected_cell',\n",
       " 'set_printer_settings',\n",
       " 'sheet_format',\n",
       " 'sheet_properties',\n",
       " 'sheet_state',\n",
       " 'sheet_view',\n",
       " 'show_gridlines',\n",
       " 'show_summary_below',\n",
       " 'show_summary_right',\n",
       " 'sort_state',\n",
       " 'title',\n",
       " 'unmerge_cells',\n",
       " 'values',\n",
       " 'vba_code',\n",
       " 'views']"
      ]
     },
     "execution_count": 8,
     "metadata": {},
     "output_type": "execute_result"
    }
   ],
   "source": [
    "dir(demo_worksheet)"
   ]
  },
  {
   "cell_type": "code",
   "execution_count": 9,
   "metadata": {
    "collapsed": true
   },
   "outputs": [],
   "source": [
    "kojo = (1, 2, 3)"
   ]
  },
  {
   "cell_type": "code",
   "execution_count": 12,
   "metadata": {},
   "outputs": [
    {
     "data": {
      "text/plain": [
       "2"
      ]
     },
     "execution_count": 12,
     "metadata": {},
     "output_type": "execute_result"
    }
   ],
   "source": [
    "kojo[1]"
   ]
  },
  {
   "cell_type": "code",
   "execution_count": 13,
   "metadata": {
    "collapsed": true
   },
   "outputs": [],
   "source": [
    "# %load 2_get_employee_list_for_loop.py\n",
    "employee_ids = set()\n",
    "for row in demo_worksheet.rows: # returns a generator object\n",
    "    if row[0].value != 'employee_num':\n",
    "        employee_ids.add(row[0].value) # pulling data from a cell"
   ]
  },
  {
   "cell_type": "code",
   "execution_count": 15,
   "metadata": {},
   "outputs": [
    {
     "data": {
      "text/plain": [
       "49"
      ]
     },
     "execution_count": 15,
     "metadata": {},
     "output_type": "execute_result"
    }
   ],
   "source": [
    "len(employee_ids)"
   ]
  },
  {
   "cell_type": "code",
   "execution_count": 16,
   "metadata": {
    "collapsed": true
   },
   "outputs": [],
   "source": [
    "# %load 4_create_employee_dictionary.py\n",
    "# Create a dictionary of each employee and their info for the month\n",
    "# This is the slowest step\n",
    "\n",
    "employee_aggregate = {}\n",
    "for employee in employee_ids:\n",
    "    # list comprehension: I'll want to sum the hours later\n",
    "    hours = [\n",
    "        row[6].value\n",
    "        for row in demo_worksheet.rows\n",
    "        if employee == row[0].value\n",
    "    ]\n",
    "\n",
    "    # set comprehension: each employee should belong to only ONE cost center\n",
    "    cost_center = {row[1].value for row in demo_worksheet.rows if employee == row[0].value}\n",
    "    division = {str(row[2].value) for row in demo_worksheet.rows if employee == row[0].value}\n",
    "    manager = {row[3].value for row in demo_worksheet.rows if employee == row[0].value}\n",
    "    \n",
    "    assert len(cost_center) == len(division) == len(manager) == 1\n",
    "    \n",
    "    employee_aggregate[employee]={\n",
    "        \"hours\": sum(hours),\n",
    "        \"cost_center\": list(cost_center)[0],\n",
    "        \"division\": list(division)[0],\n",
    "        \"manager\": list(manager)[0]\n",
    "    }\n",
    "\n",
    "# Do I want to demonstrate using dict.update?"
   ]
  },
  {
   "cell_type": "code",
   "execution_count": 20,
   "metadata": {
    "collapsed": true
   },
   "outputs": [],
   "source": [
    "# %load 5_create_output_spreadsheet.py\n",
    "# Create output workbook, then output worksheet\n",
    "output_book = Workbook() #OpenPyXL object\n",
    "output_sheet = output_book.create_sheet(\"Aggregate Time\",0)\n",
    "\n",
    "# Building the Output Header: Specific Cell References\n",
    "header = [\n",
    "    demo_worksheet[\"A1\"].value,\n",
    "    demo_worksheet[\"B1\"].value,\n",
    "    demo_worksheet[\"C1\"].value,\n",
    "    demo_worksheet[\"D1\"].value,\n",
    "    demo_worksheet[\"G1\"].value\n",
    "]\n",
    "\n",
    "# Create output data construct & append header \n",
    "output_data = []\n",
    "output_data.append(header)\n",
    "\n",
    "# Building new rows, then appending them to output data construct\n",
    "for employee in employee_aggregate: #iterating over dictionary keys\n",
    "    new_row = []\n",
    "    new_row.append(employee)\n",
    "    new_row.append(employee_aggregate[employee]['cost_center'])\n",
    "    new_row.append(employee_aggregate[employee]['division'])\n",
    "    new_row.append(employee_aggregate[employee]['manager'])\n",
    "    new_row.append(employee_aggregate[employee]['hours'])\n",
    "    output_data.append(new_row)\n"
   ]
  },
  {
   "cell_type": "code",
   "execution_count": 21,
   "metadata": {
    "collapsed": true
   },
   "outputs": [
    {
     "data": {
      "text/plain": [
       "[['employee_num', 'cost_center', 'division', 'Manager', 'hours_worked'],\n",
       " [899591, '52P02', '1000', 'dirsa', 160],\n",
       " [811272, '52P10', '1000', 'dirsa', 28.5],\n",
       " [810761, '55335', '1000', 'ffirs', 50],\n",
       " [1098762, '52P04', '1000', 'dirsa', 160],\n",
       " [897932, '55308', '1000', 'nahan', 139],\n",
       " [814863, '61101', '1000', 'nzali', 156.0],\n",
       " [820239, '61101', '1000', 'nzali', 75.0],\n",
       " [832272, '52P01', '1000', 'dirsa', 169.5],\n",
       " [825881, '52P02', '1000', 'dirsa', 133],\n",
       " [906780, '52P04', '1000', 'dirsa', 111],\n",
       " [1081500, '52P08', '1000', 'dirsa', 143],\n",
       " [1090593, '52P08', '1000', 'dirsa', 20],\n",
       " [820001, '52P04', '1000', 'dirsa', 156],\n",
       " [1099812, '55221', '1000', 'dirsa', 101],\n",
       " [826917, '52P04', '1000', 'dirsa', 168],\n",
       " [1101478, '52P04', '1000', 'dirsa', 105.5],\n",
       " [1098279, '55221', '1000', 'dirsa', 53.0],\n",
       " [826924, '55221', '1000', 'dirsa', 134.5],\n",
       " [801836, '55099', '1000', 'ffirs', 8],\n",
       " [1100974, '52A04', '1000', 'umliy', 111],\n",
       " [1099700, '52P05', '1000', 'dirsa', 160],\n",
       " [1075893, '52P05', '1000', 'dirsa', 104.0],\n",
       " [801717, '55099', '1000', 'ffirs', 49],\n",
       " [894901, '52P04', '1000', 'dirsa', 160],\n",
       " [1078455, '52P04', '1000', 'dirsa', 160],\n",
       " [810425, '55099', '1000', 'ffirs', 18],\n",
       " [849079, '55221', '1000', 'dirsa', 160],\n",
       " [1079484, '55054', '1000', 'nis', 197.5],\n",
       " [806974, '55099', '1000', 'ffirs', 23.5],\n",
       " [826693, '52P01', '1000', 'dirsa', 106],\n",
       " [899913, '52P05', '1000', 'dirsa', 240.0],\n",
       " [806092, '55335', '1000', 'ffirs', 201.5],\n",
       " [897869, '55221', '1000', 'dirsa', 61.5],\n",
       " [811216, '52P01', '1000', 'dirsa', 165.5],\n",
       " [830291, '52P04', '1000', 'dirsa', 103],\n",
       " [1074010, '55054', '1000', 'nis', 40],\n",
       " [849758, '52P11', '1000', 'dirsa', 36],\n",
       " [1083873, '55054', '1000', 'nis', 79.5],\n",
       " [831075, '52P08', '1000', 'dirsa', 161.0],\n",
       " [849380, '55054', '1000', 'nis', 86.0],\n",
       " [1063013, '52P06', '1000', 'dirsa', 159],\n",
       " [807275, '55099', '1000', 'ffirs', 18],\n",
       " [821100, '52P01', '1000', 'dirsa', 120],\n",
       " [815346, '52P01', '1000', 'dirsa', 116],\n",
       " [806771, '55221', '1000', 'dirsa', 100],\n",
       " [820596, '52P01', '1000', 'dirsa', 160],\n",
       " [1102073, '52P04', '1000', 'dirsa', 80],\n",
       " [841596, '57100', '2000', 'kavi', 119],\n",
       " [1106301, '52P10', '1000', 'dirsa', 20.0]]"
      ]
     },
     "execution_count": 21,
     "metadata": {},
     "output_type": "execute_result"
    }
   ],
   "source": [
    "output_data"
   ]
  },
  {
   "cell_type": "code",
   "execution_count": 17,
   "metadata": {
    "collapsed": true
   },
   "outputs": [
    {
     "data": {
      "text/plain": [
       "{801717: {'cost_center': '55099',\n",
       "  'division': '1000',\n",
       "  'hours': 49,\n",
       "  'manager': 'ffirs'},\n",
       " 801836: {'cost_center': '55099',\n",
       "  'division': '1000',\n",
       "  'hours': 8,\n",
       "  'manager': 'ffirs'},\n",
       " 806092: {'cost_center': '55335',\n",
       "  'division': '1000',\n",
       "  'hours': 201.5,\n",
       "  'manager': 'ffirs'},\n",
       " 806771: {'cost_center': '55221',\n",
       "  'division': '1000',\n",
       "  'hours': 100,\n",
       "  'manager': 'dirsa'},\n",
       " 806974: {'cost_center': '55099',\n",
       "  'division': '1000',\n",
       "  'hours': 23.5,\n",
       "  'manager': 'ffirs'},\n",
       " 807275: {'cost_center': '55099',\n",
       "  'division': '1000',\n",
       "  'hours': 18,\n",
       "  'manager': 'ffirs'},\n",
       " 810425: {'cost_center': '55099',\n",
       "  'division': '1000',\n",
       "  'hours': 18,\n",
       "  'manager': 'ffirs'},\n",
       " 810761: {'cost_center': '55335',\n",
       "  'division': '1000',\n",
       "  'hours': 50,\n",
       "  'manager': 'ffirs'},\n",
       " 811216: {'cost_center': '52P01',\n",
       "  'division': '1000',\n",
       "  'hours': 165.5,\n",
       "  'manager': 'dirsa'},\n",
       " 811272: {'cost_center': '52P10',\n",
       "  'division': '1000',\n",
       "  'hours': 28.5,\n",
       "  'manager': 'dirsa'},\n",
       " 814863: {'cost_center': '61101',\n",
       "  'division': '1000',\n",
       "  'hours': 156.0,\n",
       "  'manager': 'nzali'},\n",
       " 815346: {'cost_center': '52P01',\n",
       "  'division': '1000',\n",
       "  'hours': 116,\n",
       "  'manager': 'dirsa'},\n",
       " 820001: {'cost_center': '52P04',\n",
       "  'division': '1000',\n",
       "  'hours': 156,\n",
       "  'manager': 'dirsa'},\n",
       " 820239: {'cost_center': '61101',\n",
       "  'division': '1000',\n",
       "  'hours': 75.0,\n",
       "  'manager': 'nzali'},\n",
       " 820596: {'cost_center': '52P01',\n",
       "  'division': '1000',\n",
       "  'hours': 160,\n",
       "  'manager': 'dirsa'},\n",
       " 821100: {'cost_center': '52P01',\n",
       "  'division': '1000',\n",
       "  'hours': 120,\n",
       "  'manager': 'dirsa'},\n",
       " 825881: {'cost_center': '52P02',\n",
       "  'division': '1000',\n",
       "  'hours': 133,\n",
       "  'manager': 'dirsa'},\n",
       " 826693: {'cost_center': '52P01',\n",
       "  'division': '1000',\n",
       "  'hours': 106,\n",
       "  'manager': 'dirsa'},\n",
       " 826917: {'cost_center': '52P04',\n",
       "  'division': '1000',\n",
       "  'hours': 168,\n",
       "  'manager': 'dirsa'},\n",
       " 826924: {'cost_center': '55221',\n",
       "  'division': '1000',\n",
       "  'hours': 134.5,\n",
       "  'manager': 'dirsa'},\n",
       " 830291: {'cost_center': '52P04',\n",
       "  'division': '1000',\n",
       "  'hours': 103,\n",
       "  'manager': 'dirsa'},\n",
       " 831075: {'cost_center': '52P08',\n",
       "  'division': '1000',\n",
       "  'hours': 161.0,\n",
       "  'manager': 'dirsa'},\n",
       " 832272: {'cost_center': '52P01',\n",
       "  'division': '1000',\n",
       "  'hours': 169.5,\n",
       "  'manager': 'dirsa'},\n",
       " 841596: {'cost_center': '57100',\n",
       "  'division': '2000',\n",
       "  'hours': 119,\n",
       "  'manager': 'kavi'},\n",
       " 849079: {'cost_center': '55221',\n",
       "  'division': '1000',\n",
       "  'hours': 160,\n",
       "  'manager': 'dirsa'},\n",
       " 849380: {'cost_center': '55054',\n",
       "  'division': '1000',\n",
       "  'hours': 86.0,\n",
       "  'manager': 'nis'},\n",
       " 849758: {'cost_center': '52P11',\n",
       "  'division': '1000',\n",
       "  'hours': 36,\n",
       "  'manager': 'dirsa'},\n",
       " 894901: {'cost_center': '52P04',\n",
       "  'division': '1000',\n",
       "  'hours': 160,\n",
       "  'manager': 'dirsa'},\n",
       " 897869: {'cost_center': '55221',\n",
       "  'division': '1000',\n",
       "  'hours': 61.5,\n",
       "  'manager': 'dirsa'},\n",
       " 897932: {'cost_center': '55308',\n",
       "  'division': '1000',\n",
       "  'hours': 139,\n",
       "  'manager': 'nahan'},\n",
       " 899591: {'cost_center': '52P02',\n",
       "  'division': '1000',\n",
       "  'hours': 160,\n",
       "  'manager': 'dirsa'},\n",
       " 899913: {'cost_center': '52P05',\n",
       "  'division': '1000',\n",
       "  'hours': 240.0,\n",
       "  'manager': 'dirsa'},\n",
       " 906780: {'cost_center': '52P04',\n",
       "  'division': '1000',\n",
       "  'hours': 111,\n",
       "  'manager': 'dirsa'},\n",
       " 1063013: {'cost_center': '52P06',\n",
       "  'division': '1000',\n",
       "  'hours': 159,\n",
       "  'manager': 'dirsa'},\n",
       " 1074010: {'cost_center': '55054',\n",
       "  'division': '1000',\n",
       "  'hours': 40,\n",
       "  'manager': 'nis'},\n",
       " 1075893: {'cost_center': '52P05',\n",
       "  'division': '1000',\n",
       "  'hours': 104.0,\n",
       "  'manager': 'dirsa'},\n",
       " 1078455: {'cost_center': '52P04',\n",
       "  'division': '1000',\n",
       "  'hours': 160,\n",
       "  'manager': 'dirsa'},\n",
       " 1079484: {'cost_center': '55054',\n",
       "  'division': '1000',\n",
       "  'hours': 197.5,\n",
       "  'manager': 'nis'},\n",
       " 1081500: {'cost_center': '52P08',\n",
       "  'division': '1000',\n",
       "  'hours': 143,\n",
       "  'manager': 'dirsa'},\n",
       " 1083873: {'cost_center': '55054',\n",
       "  'division': '1000',\n",
       "  'hours': 79.5,\n",
       "  'manager': 'nis'},\n",
       " 1090593: {'cost_center': '52P08',\n",
       "  'division': '1000',\n",
       "  'hours': 20,\n",
       "  'manager': 'dirsa'},\n",
       " 1098279: {'cost_center': '55221',\n",
       "  'division': '1000',\n",
       "  'hours': 53.0,\n",
       "  'manager': 'dirsa'},\n",
       " 1098762: {'cost_center': '52P04',\n",
       "  'division': '1000',\n",
       "  'hours': 160,\n",
       "  'manager': 'dirsa'},\n",
       " 1099700: {'cost_center': '52P05',\n",
       "  'division': '1000',\n",
       "  'hours': 160,\n",
       "  'manager': 'dirsa'},\n",
       " 1099812: {'cost_center': '55221',\n",
       "  'division': '1000',\n",
       "  'hours': 101,\n",
       "  'manager': 'dirsa'},\n",
       " 1100974: {'cost_center': '52A04',\n",
       "  'division': '1000',\n",
       "  'hours': 111,\n",
       "  'manager': 'umliy'},\n",
       " 1101478: {'cost_center': '52P04',\n",
       "  'division': '1000',\n",
       "  'hours': 105.5,\n",
       "  'manager': 'dirsa'},\n",
       " 1102073: {'cost_center': '52P04',\n",
       "  'division': '1000',\n",
       "  'hours': 80,\n",
       "  'manager': 'dirsa'},\n",
       " 1106301: {'cost_center': '52P10',\n",
       "  'division': '1000',\n",
       "  'hours': 20.0,\n",
       "  'manager': 'dirsa'}}"
      ]
     },
     "execution_count": 17,
     "metadata": {},
     "output_type": "execute_result"
    }
   ],
   "source": [
    "employee_aggregate"
   ]
  },
  {
   "cell_type": "code",
   "execution_count": 22,
   "metadata": {
    "collapsed": true
   },
   "outputs": [],
   "source": [
    "# %load 6_write_data_to_workbook.py\n",
    "# Write data to sheet object\n",
    "for row in output_data:\n",
    "    rowIn = output_data.index(row)\n",
    "    for col in range(len(output_data[0])):\n",
    "        # Adding 1 because spreadsheets count from 1, not 0\n",
    "        output_sheet.cell(row = rowIn+1, column = col+1).value = output_data[rowIn][col]\n",
    "\n",
    "# You don't have an actual spreadsheet until you do this\n",
    "output_book.save (filename = \"done_pycaribbean.xlsx\")"
   ]
  },
  {
   "cell_type": "code",
   "execution_count": 26,
   "metadata": {
    "collapsed": true
   },
   "outputs": [],
   "source": [
    "# %load 7_create_json_object.py\n",
    "# Yes, this import is normally done earlier\n",
    "import json\n",
    "with open(\"aggregate_time.json\", 'w') as f:\n",
    "    json.dump(employee_aggregate, f, sort_keys=True, indent=4)"
   ]
  },
  {
   "cell_type": "code",
   "execution_count": 31,
   "metadata": {},
   "outputs": [
    {
     "name": "stdout",
     "output_type": "stream",
     "text": [
      "Help on built-in function dir in module builtins:\n",
      "\n",
      "dir(...)\n",
      "    dir([object]) -> list of strings\n",
      "    \n",
      "    If called without an argument, return the names in the current scope.\n",
      "    Else, return an alphabetized list of names comprising (some of) the attributes\n",
      "    of the given object, and of attributes reachable from it.\n",
      "    If the object supplies a method named __dir__, it will be used; otherwise\n",
      "    the default dir() logic is used and returns:\n",
      "      for a module object: the module's attributes.\n",
      "      for a class object:  its attributes, and recursively the attributes\n",
      "        of its bases.\n",
      "      for any other object: its attributes, its class's attributes, and\n",
      "        recursively the attributes of its class's base classes.\n",
      "\n"
     ]
    }
   ],
   "source": [
    "help(dir)"
   ]
  },
  {
   "cell_type": "code",
   "execution_count": null,
   "metadata": {
    "collapsed": true
   },
   "outputs": [],
   "source": [
    "%%writefile test.txt\n",
    "Hello World"
   ]
  }
 ],
 "metadata": {
  "kernelspec": {
   "display_name": "Python 3",
   "language": "python",
   "name": "python3"
  },
  "language_info": {
   "codemirror_mode": {
    "name": "ipython",
    "version": 3
   },
   "file_extension": ".py",
   "mimetype": "text/x-python",
   "name": "python",
   "nbconvert_exporter": "python",
   "pygments_lexer": "ipython3",
   "version": "3.6.1"
  }
 },
 "nbformat": 4,
 "nbformat_minor": 2
}
